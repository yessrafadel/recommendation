{
  "nbformat": 4,
  "nbformat_minor": 0,
  "metadata": {
    "colab": {
      "provenance": []
    },
    "kernelspec": {
      "name": "python3",
      "display_name": "Python 3"
    },
    "language_info": {
      "name": "python"
    }
  },
  "cells": [
    {
      "cell_type": "code",
      "source": [
        "from os import dup2\n",
        "import numpy as np\n",
        "import pandas as pd\n",
        "from sklearn.neighbors import KDTree\n",
        "from sklearn.model_selection import train_test_split\n",
        "from sklearn.metrics import mean_squared_error\n",
        "\n",
        "print(\"Method 1 or 2 ?\\n1) recommended movies with (ideal & actual) ratings of test user, and calculate MSE.\\n2) recommended movies with predicted ratings of test user.\\n\")\n",
        "method = int(input())\n",
        "\n",
        "Rating = pd.read_csv('Rating.txt', sep=\"\\t\")\n",
        "\n",
        "Data = pd.read_csv('Data.txt', sep=\"\\t\").iloc[:,1:] # skip the first column\n",
        "\n",
        "# Split the data 75% to train and 25% to test randomly\n",
        "Train, Test = train_test_split(Data, test_size=0.25) \n",
        "\n",
        "Tree = KDTree(Train, metric='euclidean')\n",
        "\n",
        "# Get the neighbors of the test user number 15\n",
        "# you can work with another test user\n",
        "nbr_neighbors = 3\n",
        "Dst, Ind = Tree.query(Test.iloc[[15]], k=nbr_neighbors)\n",
        "\n",
        "# Movies have neighbor ratings\n",
        "neigbors_movies = Rating[ Rating['user'].isin(Train.iloc[Ind[0]].index+1) ]\n",
        "\n",
        "# Movies have tstuser rating\n",
        "tstusr_movies = Rating[ Rating['user'].isin(Train.iloc[[15]].index+1)]\n",
        "\n",
        "\n",
        "if method == 1:\n",
        "  # get the user movie names and his rating on them\n",
        "  tstusr_ratings = tstusr_movies.iloc[:,2].reset_index(drop=True) # Method 1\n",
        "  tstusr_movie_names = pd.read_csv('item.txt', sep=\"|\",header=None).iloc[tstusr_movies.iloc[:,1]-1,1].reset_index(drop=True) # Method 1\n",
        "  ideal_rating = pd.concat([tstusr_movie_names, tstusr_ratings], axis=1) # Method 1\n",
        "  #ideal_rating.columns = [\"recommended movies\",\"ideal ratings\"] # Method 1\n",
        "  ideal_rating.columns = [\"movie names\",\"ideal ratings\"] # Method 1\n",
        "\n",
        "\n",
        "if method != 1:\n",
        "  # The favorite movies of the neighbors without the common \n",
        "  # movies with the tstuser are the recommened item movies\n",
        "  recommanded_item = np.setdiff1d(neigbors_movies.iloc[:,1],tstusr_movies.iloc[:,1]) # Method 2\n",
        "\n",
        "# get the mean rating value for each common item of the neighbors\n",
        "sum_ratings_of_each_item = neigbors_movies.groupby(by=\"item\")[\"rating\"].sum()\n",
        "count_occurrence_of_each_item = neigbors_movies.pivot_table(columns=['item'], aggfunc='size')\n",
        "predicted_ratings_of_recommended_items = sum_ratings_of_each_item.div(count_occurrence_of_each_item)\n",
        "\n",
        "# Select the recommened movie names from the list of the movies\n",
        "if method != 1:\n",
        "  recommanded_movie_names = pd.read_csv('item.txt', sep=\"|\",header=None).iloc[recommanded_item-1,1]  # Method 2\n",
        "else:\n",
        "  recommanded_movie_names = pd.read_csv('item.txt', sep=\"|\",header=None).iloc[neigbors_movies.iloc[:,1].drop_duplicates()-1,1] # Method 1\n",
        "# add 1 to all recommanded_movie_names indices in order to be equal\n",
        "# to the predicted_ratings_of_recommended_items indices\n",
        "recommanded_movie_names.index += 1\n",
        "\n",
        "recommanded = pd.concat([recommanded_movie_names, predicted_ratings_of_recommended_items], axis=1).dropna()\n",
        "recommanded.columns = ['recommended movies', 'predicted ratings']\n",
        "if method != 1:\n",
        "  print(recommanded.to_string(index=False))  # Method 2\n",
        "\n",
        "if method == 1:\n",
        "  ideal_and_actual_ratings = pd.merge(recommanded,ideal_rating, left_on = \"recommended movies\", right_on = \"movie names\") # Method 1\n",
        "  ideal_and_actual_ratings.drop('movie names', axis=1, inplace=True) # Method 1\n",
        "  print(\"MSE:\",mean_squared_error(ideal_and_actual_ratings.iloc[:,1], ideal_and_actual_ratings.iloc[:,2], squared=True)) # Method 1\n",
        "  print(ideal_and_actual_ratings.to_string(index=False)) # Method 1"
      ],
      "metadata": {
        "id": "zoDU1rFoqTYP"
      },
      "execution_count": null,
      "outputs": []
    }
  ]
}